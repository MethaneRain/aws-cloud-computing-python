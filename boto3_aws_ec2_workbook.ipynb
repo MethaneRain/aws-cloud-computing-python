{
 "cells": [
  {
   "cell_type": "code",
   "execution_count": 2,
   "metadata": {},
   "outputs": [],
   "source": [
    "import boto3"
   ]
  },
  {
   "cell_type": "code",
   "execution_count": 3,
   "metadata": {},
   "outputs": [
    {
     "data": {
      "text/plain": [
       "'us-east-2'"
      ]
     },
     "execution_count": 3,
     "metadata": {},
     "output_type": "execute_result"
    }
   ],
   "source": [
    "session = boto3.Session()\n",
    "credentials = session.get_credentials()\n",
    "\n",
    "# Credentials are refreshable, so accessing your access key / secret key\n",
    "# separately can lead to a race condition. Use this to get an actual matched\n",
    "# set.\n",
    "credentials = credentials.get_frozen_credentials()\n",
    "access_key = credentials.access_key\n",
    "secret_key = credentials.secret_key\n",
    "region = session.get_available_regions(\"ec2\")\n",
    "session.region_name\n",
    "#session.get_available_services()"
   ]
  },
  {
   "cell_type": "code",
   "execution_count": 31,
   "metadata": {},
   "outputs": [],
   "source": [
    "ec2_client = boto3.client('ec2')\n",
    "ec2_res = boto3.resource('ec2')"
   ]
  },
  {
   "cell_type": "raw",
   "metadata": {
    "scrolled": false
   },
   "source": [
    "ec2_client.describe_instances()"
   ]
  },
  {
   "cell_type": "code",
   "execution_count": 32,
   "metadata": {},
   "outputs": [],
   "source": [
    "def list_instances(ec2_res):\n",
    "    for instance_1 in ec2_res.instances.all():\n",
    "        print(\n",
    "         \"Id: {0}\\nPlatform: {1}\\nType: {2}\\nPublic IPv4: {3}\\nAMI: {4}\\nState: {5}\\n\".format(\n",
    "         instance_1.id, instance_1.platform, instance_1.instance_type, instance_1.public_ip_address, instance_1.image.id, instance_1.state\n",
    "         )\n",
    "     )"
   ]
  },
  {
   "cell_type": "code",
   "execution_count": 33,
   "metadata": {},
   "outputs": [],
   "source": [
    "def instance_state_checks(ec2_res,state):\n",
    "    # create filter for instances in running state\n",
    "    filters = [\n",
    "        {\n",
    "            'Name': 'instance-state-name', \n",
    "            'Values': [state]\n",
    "        }\n",
    "    ]\n",
    "    \n",
    "    # filter the instances\n",
    "    instances = ec2_res.instances.filter(Filters=filters)\n",
    "\n",
    "    RunningInstances = []\n",
    "\n",
    "    for instance in instances:\n",
    "        # for each instance, append to array and print instance id\n",
    "        RunningInstances.append(instance.id)\n",
    "        print(instance.id)"
   ]
  },
  {
   "cell_type": "code",
   "execution_count": 34,
   "metadata": {},
   "outputs": [
    {
     "name": "stdout",
     "output_type": "stream",
     "text": [
      "i-0da4f7758b48ce959\n",
      "i-00f25c1aafffbf5dc\n"
     ]
    }
   ],
   "source": [
    "instance_state_checks(ec2_res,\"stopped\")"
   ]
  },
  {
   "cell_type": "code",
   "execution_count": 35,
   "metadata": {},
   "outputs": [],
   "source": [
    "instance_state_checks(ec2_res,\"running\")"
   ]
  },
  {
   "cell_type": "code",
   "execution_count": 36,
   "metadata": {},
   "outputs": [
    {
     "name": "stdout",
     "output_type": "stream",
     "text": [
      "i-030d02cf812d65158\n"
     ]
    }
   ],
   "source": [
    "instance_state_checks(ec2_res,\"terminated\")"
   ]
  },
  {
   "cell_type": "code",
   "execution_count": 37,
   "metadata": {},
   "outputs": [
    {
     "name": "stdout",
     "output_type": "stream",
     "text": [
      "Id: i-0da4f7758b48ce959\n",
      "Platform: None\n",
      "Type: t2.micro\n",
      "Public IPv4: None\n",
      "AMI: ami-0277b52859bac6f4b\n",
      "State: {'Code': 80, 'Name': 'stopped'}\n",
      "\n",
      "Id: i-00f25c1aafffbf5dc\n",
      "Platform: None\n",
      "Type: t2.micro\n",
      "Public IPv4: None\n",
      "AMI: ami-0277b52859bac6f4b\n",
      "State: {'Code': 80, 'Name': 'stopped'}\n",
      "\n",
      "Id: i-030d02cf812d65158\n",
      "Platform: None\n",
      "Type: t2.micro\n",
      "Public IPv4: None\n",
      "AMI: ami-0277b52859bac6f4b\n",
      "State: {'Code': 48, 'Name': 'terminated'}\n",
      "\n"
     ]
    }
   ],
   "source": [
    "for my_instance in ec2_res.instances.all():\n",
    "     print(\n",
    "         \"Id: {0}\\nPlatform: {1}\\nType: {2}\\nPublic IPv4: {3}\\nAMI: {4}\\nState: {5}\\n\".format(\n",
    "         my_instance.id, my_instance.platform, my_instance.instance_type, \n",
    "             my_instance.public_ip_address, my_instance.image.id, my_instance.state\n",
    "         )\n",
    "     )"
   ]
  },
  {
   "cell_type": "markdown",
   "metadata": {},
   "source": [
    "---"
   ]
  },
  {
   "cell_type": "markdown",
   "metadata": {},
   "source": [
    "### Create and run new Instance\n",
    "\n",
    "Using same Image ID for all Instances"
   ]
  },
  {
   "cell_type": "code",
   "execution_count": 40,
   "metadata": {},
   "outputs": [],
   "source": [
    "new_instance = ec2_client.run_instances(ImageId=my_instance.image.id,\n",
    "                                InstanceType='t2.micro',\n",
    "                                MinCount=1,\n",
    "                                MaxCount=1, \n",
    "                                InstanceInitiatedShutdownBehavior='terminate', \n",
    "                            )"
   ]
  },
  {
   "cell_type": "code",
   "execution_count": 41,
   "metadata": {},
   "outputs": [
    {
     "data": {
      "text/plain": [
       "{'AmiLaunchIndex': 0,\n",
       " 'ImageId': 'ami-0277b52859bac6f4b',\n",
       " 'InstanceId': 'i-0275ca887da5eb3a8',\n",
       " 'InstanceType': 't2.micro',\n",
       " 'LaunchTime': datetime.datetime(2021, 7, 1, 15, 39, 23, tzinfo=tzutc()),\n",
       " 'Monitoring': {'State': 'disabled'},\n",
       " 'Placement': {'AvailabilityZone': 'us-east-2a',\n",
       "  'GroupName': '',\n",
       "  'Tenancy': 'default'},\n",
       " 'PrivateDnsName': 'ip-172-31-13-1.us-east-2.compute.internal',\n",
       " 'PrivateIpAddress': '172.31.13.1',\n",
       " 'ProductCodes': [],\n",
       " 'PublicDnsName': '',\n",
       " 'State': {'Code': 0, 'Name': 'pending'},\n",
       " 'StateTransitionReason': '',\n",
       " 'SubnetId': 'subnet-0f4d9464',\n",
       " 'VpcId': 'vpc-046cdd6f',\n",
       " 'Architecture': 'x86_64',\n",
       " 'BlockDeviceMappings': [],\n",
       " 'ClientToken': '',\n",
       " 'EbsOptimized': False,\n",
       " 'EnaSupport': True,\n",
       " 'Hypervisor': 'xen',\n",
       " 'NetworkInterfaces': [{'Attachment': {'AttachTime': datetime.datetime(2021, 7, 1, 15, 39, 23, tzinfo=tzutc()),\n",
       "    'AttachmentId': 'eni-attach-07ed572006310521a',\n",
       "    'DeleteOnTermination': True,\n",
       "    'DeviceIndex': 0,\n",
       "    'Status': 'attaching'},\n",
       "   'Description': '',\n",
       "   'Groups': [{'GroupName': 'default', 'GroupId': 'sg-40e69e3e'}],\n",
       "   'Ipv6Addresses': [],\n",
       "   'MacAddress': '02:cd:2d:ac:17:e0',\n",
       "   'NetworkInterfaceId': 'eni-0b0b93422b9519fcd',\n",
       "   'OwnerId': '789682554778',\n",
       "   'PrivateDnsName': 'ip-172-31-13-1.us-east-2.compute.internal',\n",
       "   'PrivateIpAddress': '172.31.13.1',\n",
       "   'PrivateIpAddresses': [{'Primary': True,\n",
       "     'PrivateDnsName': 'ip-172-31-13-1.us-east-2.compute.internal',\n",
       "     'PrivateIpAddress': '172.31.13.1'}],\n",
       "   'SourceDestCheck': True,\n",
       "   'Status': 'in-use',\n",
       "   'SubnetId': 'subnet-0f4d9464',\n",
       "   'VpcId': 'vpc-046cdd6f',\n",
       "   'InterfaceType': 'interface'}],\n",
       " 'RootDeviceName': '/dev/xvda',\n",
       " 'RootDeviceType': 'ebs',\n",
       " 'SecurityGroups': [{'GroupName': 'default', 'GroupId': 'sg-40e69e3e'}],\n",
       " 'SourceDestCheck': True,\n",
       " 'StateReason': {'Code': 'pending', 'Message': 'pending'},\n",
       " 'VirtualizationType': 'hvm',\n",
       " 'CpuOptions': {'CoreCount': 1, 'ThreadsPerCore': 1},\n",
       " 'CapacityReservationSpecification': {'CapacityReservationPreference': 'open'},\n",
       " 'MetadataOptions': {'State': 'pending',\n",
       "  'HttpTokens': 'optional',\n",
       "  'HttpPutResponseHopLimit': 1,\n",
       "  'HttpEndpoint': 'enabled'}}"
      ]
     },
     "execution_count": 41,
     "metadata": {},
     "output_type": "execute_result"
    }
   ],
   "source": [
    "new_instance['Instances'][0]"
   ]
  },
  {
   "cell_type": "code",
   "execution_count": 42,
   "metadata": {},
   "outputs": [
    {
     "name": "stdout",
     "output_type": "stream",
     "text": [
      "ami-0277b52859bac6f4b i-0275ca887da5eb3a8\n"
     ]
    }
   ],
   "source": [
    "list(new_instance.keys())\n",
    "instances = new_instance['Instances'][0]\n",
    "\n",
    "AMI = new_instance['Instances'][0][\"ImageId\"]\n",
    "print(f'{AMI} {instances[\"InstanceId\"]}')"
   ]
  },
  {
   "cell_type": "markdown",
   "metadata": {},
   "source": [
    "---"
   ]
  },
  {
   "cell_type": "markdown",
   "metadata": {},
   "source": [
    "### Terminate Instance(s)"
   ]
  },
  {
   "cell_type": "code",
   "execution_count": 27,
   "metadata": {},
   "outputs": [
    {
     "data": {
      "text/plain": [
       "{'TerminatingInstances': [{'CurrentState': {'Code': 32,\n",
       "    'Name': 'shutting-down'},\n",
       "   'InstanceId': 'i-030d02cf812d65158',\n",
       "   'PreviousState': {'Code': 16, 'Name': 'running'}}],\n",
       " 'ResponseMetadata': {'RequestId': '71e9c4ac-771f-46af-962e-eed5b2ffad94',\n",
       "  'HTTPStatusCode': 200,\n",
       "  'HTTPHeaders': {'x-amzn-requestid': '71e9c4ac-771f-46af-962e-eed5b2ffad94',\n",
       "   'cache-control': 'no-cache, no-store',\n",
       "   'strict-transport-security': 'max-age=31536000; includeSubDomains',\n",
       "   'content-type': 'text/xml;charset=UTF-8',\n",
       "   'transfer-encoding': 'chunked',\n",
       "   'vary': 'accept-encoding',\n",
       "   'date': 'Thu, 01 Jul 2021 15:31:38 GMT',\n",
       "   'server': 'AmazonEC2'},\n",
       "  'RetryAttempts': 0}}"
      ]
     },
     "execution_count": 27,
     "metadata": {},
     "output_type": "execute_result"
    }
   ],
   "source": [
    "ec2_client.terminate_instances(InstanceIds=[instances[\"InstanceId\"]])"
   ]
  },
  {
   "cell_type": "markdown",
   "metadata": {},
   "source": [
    "---"
   ]
  },
  {
   "cell_type": "markdown",
   "metadata": {},
   "source": [
    "### We can always envoke the ```list_instances``` function at any time to see the info on our instances"
   ]
  },
  {
   "cell_type": "code",
   "execution_count": 43,
   "metadata": {},
   "outputs": [
    {
     "name": "stdout",
     "output_type": "stream",
     "text": [
      "Id: i-0da4f7758b48ce959\n",
      "Platform: None\n",
      "Type: t2.micro\n",
      "Public IPv4: None\n",
      "AMI: ami-0277b52859bac6f4b\n",
      "State: {'Code': 80, 'Name': 'stopped'}\n",
      "\n",
      "Id: i-00f25c1aafffbf5dc\n",
      "Platform: None\n",
      "Type: t2.micro\n",
      "Public IPv4: None\n",
      "AMI: ami-0277b52859bac6f4b\n",
      "State: {'Code': 80, 'Name': 'stopped'}\n",
      "\n",
      "Id: i-030d02cf812d65158\n",
      "Platform: None\n",
      "Type: t2.micro\n",
      "Public IPv4: None\n",
      "AMI: ami-0277b52859bac6f4b\n",
      "State: {'Code': 48, 'Name': 'terminated'}\n",
      "\n",
      "Id: i-0275ca887da5eb3a8\n",
      "Platform: None\n",
      "Type: t2.micro\n",
      "Public IPv4: 3.142.43.44\n",
      "AMI: ami-0277b52859bac6f4b\n",
      "State: {'Code': 16, 'Name': 'running'}\n",
      "\n"
     ]
    }
   ],
   "source": [
    "list_instances(ec2_res)"
   ]
  },
  {
   "cell_type": "code",
   "execution_count": null,
   "metadata": {},
   "outputs": [],
   "source": []
  }
 ],
 "metadata": {
  "kernelspec": {
   "display_name": "Python 3",
   "language": "python",
   "name": "python3"
  },
  "language_info": {
   "codemirror_mode": {
    "name": "ipython",
    "version": 3
   },
   "file_extension": ".py",
   "mimetype": "text/x-python",
   "name": "python",
   "nbconvert_exporter": "python",
   "pygments_lexer": "ipython3",
   "version": "3.7.7"
  }
 },
 "nbformat": 4,
 "nbformat_minor": 4
}
