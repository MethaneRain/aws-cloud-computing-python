{
 "cells": [
  {
   "cell_type": "code",
   "execution_count": 2,
   "metadata": {},
   "outputs": [],
   "source": [
    "import boto3"
   ]
  },
  {
   "cell_type": "code",
   "execution_count": 3,
   "metadata": {},
   "outputs": [
    {
     "data": {
      "text/plain": [
       "'us-east-2'"
      ]
     },
     "execution_count": 3,
     "metadata": {},
     "output_type": "execute_result"
    }
   ],
   "source": [
    "session = boto3.Session()\n",
    "credentials = session.get_credentials()\n",
    "\n",
    "# Credentials are refreshable, so accessing your access key / secret key\n",
    "# separately can lead to a race condition. Use this to get an actual matched\n",
    "# set.\n",
    "credentials = credentials.get_frozen_credentials()\n",
    "access_key = credentials.access_key\n",
    "secret_key = credentials.secret_key\n",
    "region = session.get_available_regions(\"ec2\")\n",
    "session.region_name\n",
    "#session.get_available_services()"
   ]
  },
  {
   "cell_type": "code",
   "execution_count": 4,
   "metadata": {},
   "outputs": [],
   "source": [
    "ec2_client = boto3.client('ec2')\n",
    "ec2_res = boto3.resource('ec2')"
   ]
  },
  {
   "cell_type": "code",
   "execution_count": 8,
   "metadata": {},
   "outputs": [
    {
     "data": {
      "text/plain": [
       "{'Reservations': [{'Groups': [],\n",
       "   'Instances': [{'AmiLaunchIndex': 0,\n",
       "     'ImageId': 'ami-0277b52859bac6f4b',\n",
       "     'InstanceId': 'i-0da4f7758b48ce959',\n",
       "     'InstanceType': 't2.micro',\n",
       "     'KeyName': 'jr-keypair',\n",
       "     'LaunchTime': datetime.datetime(2021, 7, 6, 17, 25, 41, tzinfo=tzutc()),\n",
       "     'Monitoring': {'State': 'disabled'},\n",
       "     'Placement': {'AvailabilityZone': 'us-east-2a',\n",
       "      'GroupName': '',\n",
       "      'Tenancy': 'default'},\n",
       "     'PrivateDnsName': 'ip-172-31-0-132.us-east-2.compute.internal',\n",
       "     'PrivateIpAddress': '172.31.0.132',\n",
       "     'ProductCodes': [],\n",
       "     'PublicDnsName': '',\n",
       "     'State': {'Code': 80, 'Name': 'stopped'},\n",
       "     'StateTransitionReason': 'User initiated (2021-07-06 18:23:34 GMT)',\n",
       "     'SubnetId': 'subnet-0f4d9464',\n",
       "     'VpcId': 'vpc-046cdd6f',\n",
       "     'Architecture': 'x86_64',\n",
       "     'BlockDeviceMappings': [{'DeviceName': '/dev/xvda',\n",
       "       'Ebs': {'AttachTime': datetime.datetime(2021, 6, 29, 22, 38, 14, tzinfo=tzutc()),\n",
       "        'DeleteOnTermination': True,\n",
       "        'Status': 'attached',\n",
       "        'VolumeId': 'vol-040625cc8a80a1efc'}}],\n",
       "     'ClientToken': '',\n",
       "     'EbsOptimized': False,\n",
       "     'EnaSupport': True,\n",
       "     'Hypervisor': 'xen',\n",
       "     'IamInstanceProfile': {'Arn': 'arn:aws:iam::789682554778:instance-profile/full_S3_access_from_EC2',\n",
       "      'Id': 'AIPA3PXF7Q6NKWVETGH72'},\n",
       "     'NetworkInterfaces': [{'Attachment': {'AttachTime': datetime.datetime(2021, 6, 29, 22, 38, 13, tzinfo=tzutc()),\n",
       "        'AttachmentId': 'eni-attach-076bdb0eb6cfe691b',\n",
       "        'DeleteOnTermination': True,\n",
       "        'DeviceIndex': 0,\n",
       "        'Status': 'attached'},\n",
       "       'Description': '',\n",
       "       'Groups': [{'GroupName': 'launch-wizard-1',\n",
       "         'GroupId': 'sg-0fdd526038d505474'}],\n",
       "       'Ipv6Addresses': [],\n",
       "       'MacAddress': '02:0f:e5:19:44:82',\n",
       "       'NetworkInterfaceId': 'eni-0e2b91f836adcf6b4',\n",
       "       'OwnerId': '789682554778',\n",
       "       'PrivateDnsName': 'ip-172-31-0-132.us-east-2.compute.internal',\n",
       "       'PrivateIpAddress': '172.31.0.132',\n",
       "       'PrivateIpAddresses': [{'Primary': True,\n",
       "         'PrivateDnsName': 'ip-172-31-0-132.us-east-2.compute.internal',\n",
       "         'PrivateIpAddress': '172.31.0.132'}],\n",
       "       'SourceDestCheck': True,\n",
       "       'Status': 'in-use',\n",
       "       'SubnetId': 'subnet-0f4d9464',\n",
       "       'VpcId': 'vpc-046cdd6f',\n",
       "       'InterfaceType': 'interface'}],\n",
       "     'RootDeviceName': '/dev/xvda',\n",
       "     'RootDeviceType': 'ebs',\n",
       "     'SecurityGroups': [{'GroupName': 'launch-wizard-1',\n",
       "       'GroupId': 'sg-0fdd526038d505474'}],\n",
       "     'SourceDestCheck': True,\n",
       "     'StateReason': {'Code': 'Client.UserInitiatedShutdown',\n",
       "      'Message': 'Client.UserInitiatedShutdown: User initiated shutdown'},\n",
       "     'VirtualizationType': 'hvm',\n",
       "     'CpuOptions': {'CoreCount': 1, 'ThreadsPerCore': 1},\n",
       "     'CapacityReservationSpecification': {'CapacityReservationPreference': 'open'},\n",
       "     'HibernationOptions': {'Configured': False},\n",
       "     'MetadataOptions': {'State': 'applied',\n",
       "      'HttpTokens': 'optional',\n",
       "      'HttpPutResponseHopLimit': 1,\n",
       "      'HttpEndpoint': 'enabled'}}],\n",
       "   'OwnerId': '789682554778',\n",
       "   'ReservationId': 'r-00370129379249c9f'}],\n",
       " 'ResponseMetadata': {'RequestId': '06105318-d89d-4361-bbcd-f24ec0a26edd',\n",
       "  'HTTPStatusCode': 200,\n",
       "  'HTTPHeaders': {'x-amzn-requestid': '06105318-d89d-4361-bbcd-f24ec0a26edd',\n",
       "   'cache-control': 'no-cache, no-store',\n",
       "   'strict-transport-security': 'max-age=31536000; includeSubDomains',\n",
       "   'content-type': 'text/xml;charset=UTF-8',\n",
       "   'content-length': '6818',\n",
       "   'vary': 'accept-encoding',\n",
       "   'date': 'Wed, 07 Jul 2021 22:07:50 GMT',\n",
       "   'server': 'AmazonEC2'},\n",
       "  'RetryAttempts': 0}}"
      ]
     },
     "execution_count": 8,
     "metadata": {},
     "output_type": "execute_result"
    }
   ],
   "source": [
    "ec2_client.describe_instances()"
   ]
  },
  {
   "cell_type": "code",
   "execution_count": 27,
   "metadata": {},
   "outputs": [],
   "source": [
    "def list_instances(ec2_res):\n",
    "    for my_instance in ec2_res.instances.all():\n",
    "        print(\n",
    "         f\"Id: {my_instance.id}\\nPlatform: {my_instance.platform}\\nType: {my_instance.instance_type}\\nPublic IPv4: {my_instance.public_ip_address}\\nAMI: {my_instance.image.id}\\nState: {my_instance.state}\\n\"\n",
    "     )"
   ]
  },
  {
   "cell_type": "code",
   "execution_count": 29,
   "metadata": {},
   "outputs": [
    {
     "name": "stdout",
     "output_type": "stream",
     "text": [
      "Id: i-0da4f7758b48ce959\n",
      "Platform: None\n",
      "Type: t2.micro\n",
      "Public IPv4: None\n",
      "AMI: ami-0277b52859bac6f4b\n",
      "State: {'Code': 80, 'Name': 'stopped'}\n",
      "\n",
      "Id: i-09492a4aeb532a4f3\n",
      "Platform: None\n",
      "Type: t2.micro\n",
      "Public IPv4: 13.58.248.59\n",
      "AMI: ami-0277b52859bac6f4b\n",
      "State: {'Code': 64, 'Name': 'stopping'}\n",
      "\n"
     ]
    }
   ],
   "source": [
    "list_instances(ec2_res)"
   ]
  },
  {
   "cell_type": "code",
   "execution_count": 6,
   "metadata": {},
   "outputs": [],
   "source": [
    "def instance_state_checks(ec2_res,state):\n",
    "    # create filter for instances in running state\n",
    "    filters = [\n",
    "        {\n",
    "            'Name': 'instance-state-name', \n",
    "            'Values': [state]\n",
    "        }\n",
    "    ]\n",
    "    \n",
    "    # filter the instances\n",
    "    instances = ec2_res.instances.filter(Filters=filters)\n",
    "\n",
    "    RunningInstances = []\n",
    "\n",
    "    for instance in instances:\n",
    "        # for each instance, append to array and print instance id\n",
    "        RunningInstances.append(instance.id)\n",
    "        print(instance.id)"
   ]
  },
  {
   "cell_type": "code",
   "execution_count": 34,
   "metadata": {},
   "outputs": [
    {
     "name": "stdout",
     "output_type": "stream",
     "text": [
      "i-0da4f7758b48ce959\n",
      "i-00f25c1aafffbf5dc\n"
     ]
    }
   ],
   "source": [
    "instance_state_checks(ec2_res,\"stopped\")"
   ]
  },
  {
   "cell_type": "code",
   "execution_count": 35,
   "metadata": {},
   "outputs": [],
   "source": [
    "instance_state_checks(ec2_res,\"running\")"
   ]
  },
  {
   "cell_type": "code",
   "execution_count": 36,
   "metadata": {},
   "outputs": [
    {
     "name": "stdout",
     "output_type": "stream",
     "text": [
      "i-030d02cf812d65158\n"
     ]
    }
   ],
   "source": [
    "instance_state_checks(ec2_res,\"terminated\")"
   ]
  },
  {
   "cell_type": "markdown",
   "metadata": {},
   "source": [
    "---"
   ]
  },
  {
   "cell_type": "markdown",
   "metadata": {},
   "source": [
    "### Create and run new Instance\n",
    "\n",
    "Using same Image ID for all Instances"
   ]
  },
  {
   "cell_type": "code",
   "execution_count": 9,
   "metadata": {},
   "outputs": [],
   "source": [
    "new_instance = ec2_client.run_instances(ImageId=\"ami-0277b52859bac6f4b\",\n",
    "                                InstanceType='t2.micro',\n",
    "                                MinCount=1,\n",
    "                                MaxCount=1, \n",
    "                                InstanceInitiatedShutdownBehavior='terminate', \n",
    "                            )"
   ]
  },
  {
   "cell_type": "code",
   "execution_count": 11,
   "metadata": {},
   "outputs": [
    {
     "data": {
      "text/plain": [
       "'/Users/chowdahead/Documents/GitHub/aws-cloud-computing-python'"
      ]
     },
     "execution_count": 11,
     "metadata": {},
     "output_type": "execute_result"
    }
   ],
   "source": [
    "pwd"
   ]
  },
  {
   "cell_type": "code",
   "execution_count": 22,
   "metadata": {},
   "outputs": [
    {
     "data": {
      "text/plain": [
       "'i-09492a4aeb532a4f3'"
      ]
     },
     "execution_count": 22,
     "metadata": {},
     "output_type": "execute_result"
    }
   ],
   "source": [
    "new_instance['Instances'][0]['InstanceId']"
   ]
  },
  {
   "cell_type": "code",
   "execution_count": 15,
   "metadata": {},
   "outputs": [
    {
     "data": {
      "text/plain": [
       "dict"
      ]
     },
     "execution_count": 15,
     "metadata": {},
     "output_type": "execute_result"
    }
   ],
   "source": [
    "dic = new_instance['Instances'][0]\n",
    "type(dic)"
   ]
  },
  {
   "cell_type": "code",
   "execution_count": 18,
   "metadata": {},
   "outputs": [],
   "source": [
    "import json\n",
    "\n",
    "with open(\"dict_to_json_textfile.json\", 'w') as fout:\n",
    "    json_dumps_str = json.dumps(dic, indent=4, sort_keys=True, default=str)\n",
    "    print(json_dumps_str, file=fout)"
   ]
  },
  {
   "cell_type": "code",
   "execution_count": 23,
   "metadata": {},
   "outputs": [
    {
     "name": "stdout",
     "output_type": "stream",
     "text": [
      "i-09492a4aeb532a4f3\n"
     ]
    }
   ],
   "source": [
    "\n",
    "with open('dict_to_json_textfile.json') as f:\n",
    "    data = json.load(f)\n",
    "\n",
    "# Output: {'name': 'Bob', 'languages': ['English', 'Fench']}\n",
    "print(data['InstanceId'])"
   ]
  },
  {
   "cell_type": "code",
   "execution_count": 42,
   "metadata": {},
   "outputs": [
    {
     "name": "stdout",
     "output_type": "stream",
     "text": [
      "ami-0277b52859bac6f4b i-0275ca887da5eb3a8\n"
     ]
    }
   ],
   "source": [
    "list(new_instance.keys())\n",
    "instances = new_instance['Instances'][0]\n",
    "\n",
    "AMI = new_instance['Instances'][0][\"ImageId\"]\n",
    "print(f'{AMI} {instances[\"InstanceId\"]}')"
   ]
  },
  {
   "cell_type": "markdown",
   "metadata": {},
   "source": [
    "---"
   ]
  },
  {
   "cell_type": "markdown",
   "metadata": {},
   "source": [
    "### Stop Intance(s)"
   ]
  },
  {
   "cell_type": "code",
   "execution_count": 28,
   "metadata": {},
   "outputs": [
    {
     "data": {
      "text/plain": [
       "{'StoppingInstances': [{'CurrentState': {'Code': 64, 'Name': 'stopping'},\n",
       "   'InstanceId': 'i-09492a4aeb532a4f3',\n",
       "   'PreviousState': {'Code': 16, 'Name': 'running'}}],\n",
       " 'ResponseMetadata': {'RequestId': '8ded8776-6abd-4d82-91cf-b09fca325caa',\n",
       "  'HTTPStatusCode': 200,\n",
       "  'HTTPHeaders': {'x-amzn-requestid': '8ded8776-6abd-4d82-91cf-b09fca325caa',\n",
       "   'cache-control': 'no-cache, no-store',\n",
       "   'strict-transport-security': 'max-age=31536000; includeSubDomains',\n",
       "   'content-type': 'text/xml;charset=UTF-8',\n",
       "   'content-length': '579',\n",
       "   'date': 'Thu, 08 Jul 2021 00:24:08 GMT',\n",
       "   'server': 'AmazonEC2'},\n",
       "  'RetryAttempts': 0}}"
      ]
     },
     "execution_count": 28,
     "metadata": {},
     "output_type": "execute_result"
    }
   ],
   "source": [
    "ec2_client.stop_instances(InstanceIds=[\"i-09492a4aeb532a4f3\"])"
   ]
  },
  {
   "cell_type": "markdown",
   "metadata": {},
   "source": [
    "### Terminate Instance(s)"
   ]
  },
  {
   "cell_type": "code",
   "execution_count": 27,
   "metadata": {},
   "outputs": [
    {
     "data": {
      "text/plain": [
       "{'TerminatingInstances': [{'CurrentState': {'Code': 32,\n",
       "    'Name': 'shutting-down'},\n",
       "   'InstanceId': 'i-030d02cf812d65158',\n",
       "   'PreviousState': {'Code': 16, 'Name': 'running'}}],\n",
       " 'ResponseMetadata': {'RequestId': '71e9c4ac-771f-46af-962e-eed5b2ffad94',\n",
       "  'HTTPStatusCode': 200,\n",
       "  'HTTPHeaders': {'x-amzn-requestid': '71e9c4ac-771f-46af-962e-eed5b2ffad94',\n",
       "   'cache-control': 'no-cache, no-store',\n",
       "   'strict-transport-security': 'max-age=31536000; includeSubDomains',\n",
       "   'content-type': 'text/xml;charset=UTF-8',\n",
       "   'transfer-encoding': 'chunked',\n",
       "   'vary': 'accept-encoding',\n",
       "   'date': 'Thu, 01 Jul 2021 15:31:38 GMT',\n",
       "   'server': 'AmazonEC2'},\n",
       "  'RetryAttempts': 0}}"
      ]
     },
     "execution_count": 27,
     "metadata": {},
     "output_type": "execute_result"
    }
   ],
   "source": [
    "ec2_client.terminate_instances(InstanceIds=[instances[\"InstanceId\"]])"
   ]
  },
  {
   "cell_type": "markdown",
   "metadata": {},
   "source": [
    "---"
   ]
  },
  {
   "cell_type": "markdown",
   "metadata": {},
   "source": [
    "### We can always envoke the ```list_instances``` function at any time to see the info on our instances"
   ]
  },
  {
   "cell_type": "code",
   "execution_count": 45,
   "metadata": {},
   "outputs": [
    {
     "name": "stdout",
     "output_type": "stream",
     "text": [
      "Id: i-0da4f7758b48ce959\n",
      "Platform: None\n",
      "Type: t2.micro\n",
      "Public IPv4: None\n",
      "AMI: ami-0277b52859bac6f4b\n",
      "State: {'Code': 80, 'Name': 'stopped'}\n",
      "\n",
      "Id: i-00f25c1aafffbf5dc\n",
      "Platform: None\n",
      "Type: t2.micro\n",
      "Public IPv4: None\n",
      "AMI: ami-0277b52859bac6f4b\n",
      "State: {'Code': 80, 'Name': 'stopped'}\n",
      "\n",
      "Id: i-030d02cf812d65158\n",
      "Platform: None\n",
      "Type: t2.micro\n",
      "Public IPv4: None\n",
      "AMI: ami-0277b52859bac6f4b\n",
      "State: {'Code': 48, 'Name': 'terminated'}\n",
      "\n",
      "Id: i-0275ca887da5eb3a8\n",
      "Platform: None\n",
      "Type: t2.micro\n",
      "Public IPv4: 3.142.43.44\n",
      "AMI: ami-0277b52859bac6f4b\n",
      "State: {'Code': 64, 'Name': 'stopping'}\n",
      "\n"
     ]
    }
   ],
   "source": [
    "list_instances(ec2_res)"
   ]
  },
  {
   "cell_type": "code",
   "execution_count": null,
   "metadata": {},
   "outputs": [],
   "source": []
  }
 ],
 "metadata": {
  "kernelspec": {
   "display_name": "Python 3",
   "language": "python",
   "name": "python3"
  },
  "language_info": {
   "codemirror_mode": {
    "name": "ipython",
    "version": 3
   },
   "file_extension": ".py",
   "mimetype": "text/x-python",
   "name": "python",
   "nbconvert_exporter": "python",
   "pygments_lexer": "ipython3",
   "version": "3.7.7"
  }
 },
 "nbformat": 4,
 "nbformat_minor": 4
}
